{
 "cells": [
  {
   "cell_type": "markdown",
   "id": "f5f4d0b1",
   "metadata": {},
   "source": [
    "##### Author: Jimin Kim (jk55@uw.edu)\n",
    "##### Version 1.5.0"
   ]
  },
  {
   "cell_type": "markdown",
   "id": "c15dd830",
   "metadata": {},
   "source": [
    "# Lab 4 Report"
   ]
  },
  {
   "cell_type": "markdown",
   "id": "0b76e12f",
   "metadata": {},
   "source": [
    "## Group Members:\n",
    "## Group Name for Leaderboard: "
   ]
  },
  {
   "cell_type": "code",
   "execution_count": null,
   "id": "4d45e0cd",
   "metadata": {},
   "outputs": [],
   "source": [
    "import numpy as np\n",
    "import pandas as pd\n",
    "import matplotlib.pyplot as plt\n",
    "\n",
    "%matplotlib inline"
   ]
  },
  {
   "cell_type": "markdown",
   "id": "f900d0d0",
   "metadata": {},
   "source": [
    "### Exercise 1: Construct Dictionaries from Data"
   ]
  },
  {
   "cell_type": "markdown",
   "id": "87db7d24",
   "metadata": {},
   "source": [
    "<img src=\"lab4_exercise1.png\" width=\"1000\">"
   ]
  },
  {
   "cell_type": "code",
   "execution_count": null,
   "id": "0f1a2e57",
   "metadata": {},
   "outputs": [],
   "source": [
    "def convert_csv_to_dict(file_path):\n",
    "    \n",
    "    # YOUR CODE HERE\n",
    "    # Section 1.1 and 2.3 of Lab4_Lecture_Examples.ipynb might be helpful\n",
    "    \n",
    "    return dict_object"
   ]
  },
  {
   "cell_type": "code",
   "execution_count": null,
   "id": "4b92b859",
   "metadata": {},
   "outputs": [],
   "source": [
    "TSLA_dict = convert_csv_to_dict('your file path to TSLA.csv')"
   ]
  },
  {
   "cell_type": "code",
   "execution_count": null,
   "id": "bf7b05fa",
   "metadata": {},
   "outputs": [],
   "source": [
    "# Navigate to keys corresponding to 2nd and 4th columns (Open and Low prices) of TSLA.csv, \n",
    "# Print first 10 elements of each key.\n",
    "\n",
    "TSLA_column2 = \"Open\"\n",
    "TSLA_column4 = \"Low\"\n",
    "print(TSLA_dict[TSLA_column2][:10])\n",
    "print(TSLA_dict[TSLA_column4][:10])"
   ]
  },
  {
   "cell_type": "code",
   "execution_count": null,
   "id": "e943cb82",
   "metadata": {},
   "outputs": [],
   "source": [
    "diabetes_dict = convert_csv_to_dict('your file path to diabetes.csv')"
   ]
  },
  {
   "cell_type": "code",
   "execution_count": null,
   "id": "3ad77d50",
   "metadata": {},
   "outputs": [],
   "source": [
    "# Navigate to keys corresponding to 2nd and 4th columns (Glucose and SkinThickness) of diabetes.csv, \n",
    "# Print first 10 elements of each key.\n",
    "\n",
    "diabetes_column2 = \"Glucose\"\n",
    "diabetes_column4 = \"SkinThickness\"\n",
    "print(diabetes_dict[diabetes_column2][:10])\n",
    "print(diabetes_dict[diabetes_column4][:10])"
   ]
  },
  {
   "cell_type": "markdown",
   "id": "5eb0da37",
   "metadata": {},
   "source": [
    "### Exercise 2: Bar graph with confidence intervals"
   ]
  },
  {
   "cell_type": "markdown",
   "id": "c15dd5f4",
   "metadata": {},
   "source": [
    "<img src=\"lab4_exercise2.png\" width=\"1000\">"
   ]
  },
  {
   "cell_type": "code",
   "execution_count": null,
   "id": "dfda82e0",
   "metadata": {},
   "outputs": [],
   "source": [
    "# Load diabetes.csv \n",
    "# Split the data into diabetic and non-diabetic\n",
    "\n",
    "diabetes = pd.read_csv('diabetes.csv')\n",
    "\n",
    "# YOUR CODE HERE"
   ]
  },
  {
   "cell_type": "code",
   "execution_count": null,
   "id": "38c0873e",
   "metadata": {},
   "outputs": [],
   "source": [
    "# Extract glucose, blood pressure, and BMI metrics from diabetic and non-diabetic\n",
    "\n",
    "# non-diabetic metrics\n",
    "non_diabetic_glucose = # YOUR CODE HERE\n",
    "non_diabetic_bp = \n",
    "non_diabetic_bmi = \n",
    "\n",
    "# diabetic metrics\n",
    "diabetic_glucose = # YOUR CODE HERE\n",
    "diabetic_bp = \n",
    "diabetic_bmi = \n",
    "\n",
    "non_diabetic_list = [non_diabetic_glucose, non_diabetic_bp, non_diabetic_bmi]\n",
    "diabetic_list = [diabetic_glucose, diabetic_bp, diabetic_bmi]\n",
    "\n",
    "non_diabetic_bar_labels = ['non_diabetic_glucose', 'non_diabetic_bp', 'non_diabetic_bmi']\n",
    "diabetic_bar_labels = ['diabetic_glucose', 'diabetic_bp', 'diabetic_bmi']"
   ]
  },
  {
   "cell_type": "code",
   "execution_count": null,
   "id": "14e87c48",
   "metadata": {},
   "outputs": [],
   "source": [
    "def produce_bargraph_CI(data_vec_list, conf_level, bar_labels):\n",
    "    \n",
    "    # YOUR CODE HERE \n",
    "    # THE FUNCTION SHOULD OUTPUT THE PLOT\n",
    "    # MAKE SURE YOUR LABELS (bar labels, plot titles are large enough)"
   ]
  },
  {
   "cell_type": "code",
   "execution_count": null,
   "id": "cccb2595",
   "metadata": {},
   "outputs": [],
   "source": [
    "produce_bargraph_CI(data_vec_list = non_diabetic_list, conf_level = 0.99, bar_labels = non_diabetic_bar_labels)"
   ]
  },
  {
   "cell_type": "code",
   "execution_count": null,
   "id": "4452891f",
   "metadata": {},
   "outputs": [],
   "source": [
    "produce_bargraph_CI(data_vec_list = diabetic_list, conf_level = 0.95, bar_labels = diabetic_bar_labels)"
   ]
  },
  {
   "cell_type": "markdown",
   "id": "58bb0604",
   "metadata": {},
   "source": [
    "### Exercise 3: Rolling Mean/Median Function from Scratch"
   ]
  },
  {
   "cell_type": "markdown",
   "id": "f7a0620a",
   "metadata": {},
   "source": [
    "<img src=\"lab4_exercise3.png\" width=\"1000\">"
   ]
  },
  {
   "cell_type": "code",
   "execution_count": null,
   "id": "21b82271",
   "metadata": {},
   "outputs": [],
   "source": [
    "# Load stock datasets\n",
    "\n",
    "tesla = pd.read_csv('TSLA.csv') \n",
    "tesla_np = tesla.to_numpy()\n",
    "\n",
    "google = pd.read_csv('GOOGL.csv') \n",
    "google_np = google.to_numpy()\n",
    "\n",
    "dji = pd.read_csv('DJI.csv') \n",
    "dji_np = dji.to_numpy()"
   ]
  },
  {
   "cell_type": "code",
   "execution_count": null,
   "id": "9c6146a0",
   "metadata": {},
   "outputs": [],
   "source": [
    "# Extract closing price for each stock data\n",
    "\n",
    "tesla_np_closing = tesla_np[:, 4]\n",
    "google_np_closing = google_np[:, 4]\n",
    "DJI_np_closing = dji_np[:, 4]"
   ]
  },
  {
   "cell_type": "code",
   "execution_count": null,
   "id": "da865892",
   "metadata": {},
   "outputs": [],
   "source": [
    "def smooth_data(data_arr, smooth_type, window_size):\n",
    "    \n",
    "    # YOUR CODE HERE\n",
    "    \n",
    "    return smoothed_data_arr"
   ]
  },
  {
   "cell_type": "code",
   "execution_count": null,
   "id": "ae1e8a2b",
   "metadata": {},
   "outputs": [],
   "source": [
    "# Tesla closing prices, smooth_type = 'mean', window_size = 100\n",
    "# Note your smoothed data will be shorter than the original\n",
    "\n",
    "smoothed_tsla_closing  = smooth_data(tesla_np_closing, smooth_type = 'mean', window_size = 100)"
   ]
  },
  {
   "cell_type": "code",
   "execution_count": null,
   "id": "61a6ba44",
   "metadata": {},
   "outputs": [],
   "source": [
    "# plot smoothed_tsla_closing on top of tesla_np_closing\n",
    "\n",
    "# YOUR CODE HERE"
   ]
  },
  {
   "cell_type": "code",
   "execution_count": null,
   "id": "29535d23",
   "metadata": {},
   "outputs": [],
   "source": [
    "# Google closing prices, smooth_type = 'median', window_size = 150\n",
    "# Note your smoothed data will be shorter than the original\n",
    "\n",
    "smoothed_google_closing  = smooth_data(google_np_closing, smooth_type = 'median', window_size = 150)"
   ]
  },
  {
   "cell_type": "code",
   "execution_count": null,
   "id": "f0d4ced3",
   "metadata": {},
   "outputs": [],
   "source": [
    "# plot smoothed_google_closing on top of google_np_closing\n",
    "\n",
    "# YOUR CODE HERE"
   ]
  },
  {
   "cell_type": "code",
   "execution_count": null,
   "id": "ec2b672b",
   "metadata": {},
   "outputs": [],
   "source": [
    "# Dow Jones Index closing prices, smooth_type = 'mean', window_size = 200\n",
    "# Note your smoothed data will be shorter than the original\n",
    "\n",
    "smoothed_dji_closing  = smooth_data(DJI_np_closing, smooth_type = 'mean', window_size = 200)"
   ]
  },
  {
   "cell_type": "code",
   "execution_count": null,
   "id": "beb96963",
   "metadata": {},
   "outputs": [],
   "source": [
    "# plot smoothed_dji_closing on top of dji_np_closing\n",
    "\n",
    "# YOUR CODE HERE"
   ]
  },
  {
   "cell_type": "markdown",
   "id": "00c5e941",
   "metadata": {},
   "source": [
    "## Extra credit: Code efficiency\n",
    "### Achieve a runtime speed of < 50ms"
   ]
  },
  {
   "cell_type": "code",
   "execution_count": null,
   "id": "9a2e58cd",
   "metadata": {},
   "outputs": [],
   "source": [
    "timeit -n 1 -r 7 smoothed_google_closing  = smooth_data(google_np_closing, smooth_type = 'median', window_size = 150)"
   ]
  },
  {
   "cell_type": "markdown",
   "id": "0e1317ff",
   "metadata": {},
   "source": [
    "### Exercise 4: Ranking Daily Stock Surges/Crashes"
   ]
  },
  {
   "cell_type": "markdown",
   "id": "a744515b",
   "metadata": {},
   "source": [
    "<img src=\"lab4_exercise4.png\" width=\"1000\">"
   ]
  },
  {
   "cell_type": "code",
   "execution_count": null,
   "id": "1e42ebb9",
   "metadata": {},
   "outputs": [],
   "source": [
    "def detect_surge_crash(filepath, detect_type, num_output_dates):\n",
    "    \n",
    "    # YOUR CODE HERE\n",
    "    # Lab 2 slide 24 might come useful\n",
    "    \n",
    "    return date_list, price_change_list"
   ]
  },
  {
   "cell_type": "code",
   "execution_count": null,
   "id": "84d8ff18",
   "metadata": {},
   "outputs": [],
   "source": [
    "date_list_t, price_change_list_t = detect_surge_crash(filepath = path to TSLA.csv, detect_type = 'surge', num_output_dates = 5)"
   ]
  },
  {
   "cell_type": "code",
   "execution_count": null,
   "id": "063e2f19",
   "metadata": {},
   "outputs": [],
   "source": [
    "print(date_list_t, price_change_list_t)"
   ]
  },
  {
   "cell_type": "code",
   "execution_count": null,
   "id": "6a3b62f7",
   "metadata": {},
   "outputs": [],
   "source": [
    "date_list_g, price_change_list_g = detect_surge_crash(filepath = path to GOOGL.csv, detect_type = 'crash', num_output_dates = 7)"
   ]
  },
  {
   "cell_type": "code",
   "execution_count": null,
   "id": "fbdf3f42",
   "metadata": {},
   "outputs": [],
   "source": [
    "print(date_list_g, price_change_list_g)"
   ]
  },
  {
   "cell_type": "markdown",
   "id": "9dc480d9",
   "metadata": {},
   "source": [
    "## Extra credit: Code efficiency\n",
    "### Achieve a runtime speed of < 10ms"
   ]
  },
  {
   "cell_type": "code",
   "execution_count": null,
   "id": "94179472",
   "metadata": {},
   "outputs": [],
   "source": [
    "timeit -n 1 -r 7 date_list_t, price_change_list_t = detect_surge_crash(filepath = path to TSLA.csv, detect_type = 'surge', num_output_dates = 5)"
   ]
  },
  {
   "cell_type": "markdown",
   "id": "5605702f",
   "metadata": {},
   "source": [
    "### Exercise 5: Human Debugger"
   ]
  },
  {
   "cell_type": "markdown",
   "id": "d5387df5",
   "metadata": {},
   "source": [
    "<img src=\"lab4_exercise5.png\" width=\"1200\">"
   ]
  },
  {
   "cell_type": "markdown",
   "id": "61790f59",
   "metadata": {},
   "source": [
    "### Faulty function #1 "
   ]
  },
  {
   "cell_type": "code",
   "execution_count": null,
   "id": "7d54fe90",
   "metadata": {},
   "outputs": [],
   "source": [
    "def average_data_per_col(arr_2d):\n",
    "    \n",
    "    # NOTE FROM YOUR FRIEND PREPARING FOR STARBUCKS SOFTWARE ENGINEER TECH INTERVIEW \n",
    "    \"\"\"  The function takes numpy 2d array as an input, computes mean for each column data, and outputs 1D array \n",
    "         with the length equal to the # of columns.\n",
    "         \n",
    "         For some reason I keep getting errors.... I need your help to debug the code.\n",
    "         I need this position so I can get free ice lattes... :(\n",
    "    \n",
    "    \"\"\"\n",
    "    \n",
    "    # placeholder for averaged values\n",
    "    averaged_data = ()\n",
    "    \n",
    "    # Loop through each column data to compute mean and append to averaged_data \n",
    "    for k in range(len(arr_2d[:, 0])):\n",
    "        \n",
    "        averaged_column_data = np.mean(arr_2d[:, k])\n",
    "        averaged_data.append(averaged_column_data)\n",
    "        \n",
    "    # Return numpy array form of the averaged_data\n",
    "    return np.array(averaged_data)"
   ]
  },
  {
   "cell_type": "code",
   "execution_count": null,
   "id": "8f4ddb85",
   "metadata": {},
   "outputs": [],
   "source": [
    "# Load diabetes.csv and convert to numpy array\n",
    "\n",
    "diabetes = pd.read_csv('diabetes.csv')\n",
    "diabetes_np = diabetes.to_numpy()"
   ]
  },
  {
   "cell_type": "code",
   "execution_count": null,
   "id": "bb0769db",
   "metadata": {},
   "outputs": [],
   "source": [
    "# Run faulty function 1\n",
    "\n",
    "averaged_diabetic_attributes =  average_data_per_col(diabetes_np)"
   ]
  },
  {
   "cell_type": "code",
   "execution_count": null,
   "id": "662c696e",
   "metadata": {},
   "outputs": [],
   "source": [
    "# YOUR FIXED FUNCTION HERE\n",
    "# Make sure you comment on your fixes\n",
    "\n",
    "def average_data_per_col_fixed(arr_2d):\n",
    "    \n",
    "    # YOUR CODE HERE\n",
    "        \n",
    "    return "
   ]
  },
  {
   "cell_type": "code",
   "execution_count": null,
   "id": "cb1aad89",
   "metadata": {},
   "outputs": [],
   "source": [
    "# Test your fixed function\n",
    "\n",
    "averaged_diabetic_attributes =  average_data_per_col_fixed(diabetes_np)"
   ]
  },
  {
   "cell_type": "code",
   "execution_count": null,
   "id": "97927a5b",
   "metadata": {},
   "outputs": [],
   "source": [
    "# Compare with correct results\n",
    "\n",
    "correct_result_func1 = np.load('E5_correct_output_1.npy')\n",
    "\n",
    "# Should return True if the result is correct\n",
    "np.sum(np.round(correct_result_func1, 3) == np.round(averaged_diabetic_attributes, 3)) == len(correct_result_func1) "
   ]
  },
  {
   "cell_type": "markdown",
   "id": "283bc04d",
   "metadata": {},
   "source": [
    "### Faulty function #2"
   ]
  },
  {
   "cell_type": "code",
   "execution_count": null,
   "id": "7297d884",
   "metadata": {},
   "outputs": [],
   "source": [
    "def daily_stock_change_2_normalized_percentage(opening_price_arr, closing_price_arr):\n",
    "    \n",
    "    # NOTE FROM YOUR FRIEND WHO INVESTED IN TESLA\n",
    "    \"\"\"  I want to write a function which takes 2 1D numpy arrays of each corresponding to opening/closing prices of stock\n",
    "         and output 1D array of daily stock change in percentages. \n",
    "         \n",
    "         I want the percentages scale to be in a scale such that 1 = 100%, -0.5 = -50%, 1.5 = 150%  etc.\n",
    "         For example, day 1 opening: $10, day 1 closing: $15, change in scaled percecntage: 0.5.\n",
    "         \n",
    "         I am not really getting errors but the numbers don't look right... Can you help me?? :'( \n",
    "    \n",
    "    \"\"\"\n",
    "    \n",
    "    # placeholder for change percentage values\n",
    "    change_percentages = np.zeros(len(opening_price_arr), dtype = 'int')\n",
    "    \n",
    "    # Loop through each opening/closing price to compute the change percentage\n",
    "    for date_num in range(len(opening_price_arr)):\n",
    "        \n",
    "        change_percentages[date_num] = opening_price_arr[date_num] - closing_price_arr[date_num] / opening_price_arr[date_num]\n",
    "    \n",
    "    return change_percentages"
   ]
  },
  {
   "cell_type": "code",
   "execution_count": null,
   "id": "8a6008e0",
   "metadata": {},
   "outputs": [],
   "source": [
    "# Load tsla.csv and convert to numpy array\n",
    "\n",
    "tesla = pd.read_csv('TSLA.csv') \n",
    "tesla_np = tesla.to_numpy()"
   ]
  },
  {
   "cell_type": "code",
   "execution_count": null,
   "id": "3486e41e",
   "metadata": {},
   "outputs": [],
   "source": [
    "# Run faulty function 2\n",
    "\n",
    "change_percentages = daily_stock_change_2_normalized_percentage(tesla_np[:, 1], tesla_np[:, 4])\n",
    "print(change_percentages)"
   ]
  },
  {
   "cell_type": "code",
   "execution_count": null,
   "id": "b0a52a2e",
   "metadata": {},
   "outputs": [],
   "source": [
    "# YOUR FIXED FUNCTION HERE\n",
    "# Make sure you comment on your fixes\n",
    "\n",
    "def daily_stock_change_2_normalized_percentage_fixed(opening_price_arr, closing_price_arr):\n",
    "    \n",
    "    # YOUR CODE HERE\n",
    "    \n",
    "    return change_percentages"
   ]
  },
  {
   "cell_type": "code",
   "execution_count": null,
   "id": "b0a62383",
   "metadata": {},
   "outputs": [],
   "source": [
    "# Test your fixed function\n",
    "\n",
    "change_percentages = daily_stock_change_2_normalized_percentage_fixed(tesla_np[:, 1], tesla_np[:, 4])\n",
    "print(change_percentages)"
   ]
  },
  {
   "cell_type": "code",
   "execution_count": null,
   "id": "3abcd16f",
   "metadata": {},
   "outputs": [],
   "source": [
    "# Compare with correct results\n",
    "\n",
    "correct_result_func2 = np.load('E5_correct_output_2.npy')\n",
    "\n",
    "# Should return True if the result is correct\n",
    "np.sum(np.round(correct_result_func2, 3) == np.round(change_percentages, 3)) == len(correct_result_func2) "
   ]
  },
  {
   "cell_type": "markdown",
   "id": "f9f376cc",
   "metadata": {},
   "source": [
    "### Faulty function #3"
   ]
  },
  {
   "cell_type": "code",
   "execution_count": null,
   "id": "54f49798",
   "metadata": {},
   "outputs": [],
   "source": [
    "def subset_diabetes_by_age(diabetes_data):\n",
    "    \n",
    "    # NOTE FROM YOUR FRIEND WHO WORKS AT UW IHME\n",
    "    \"\"\" The function takes diabetes pandas data frame as an input and outputs a subplot of 3 x 1 with three histograms.    \n",
    "    \n",
    "        Specifically, I want to divide the diabetes data into three age groups - \n",
    "            1. 20 to 40\n",
    "            2. 40 to 60\n",
    "            3. 60 to 80\n",
    "            \n",
    "        and plot 3 histograms of glucose distribution (50 bins per histogram) in 3 x 1 python subplots.\n",
    "        \n",
    "        I seem to be getting error from very beginning even before I divide the dataset....\n",
    "        My coworkers at IHME prefer R rather than Python... so you are my only hope!  \n",
    "    \n",
    "    \"\"\"\n",
    "    \n",
    "    # Extract the age column of the diabetes_data \n",
    "    age_column = diabetes_data[:, 8] \n",
    "    \n",
    "    # Construct boolean mask for each age group \n",
    "    age_20_40_bool_mask = age_column > 20 + age_column < 40\n",
    "    age_40_60_bool_mask = age_column > 40 + age_column < 60\n",
    "    age_60_80_bool_mask = age_column > 60 + age_column < 80\n",
    "    \n",
    "    # Get glucose data for each age group via applying the boolean mask for each age group\n",
    "    age_20_40_glucose = diabetes_data[age_20_40_bool_mask, 2]\n",
    "    age_40_60_glucose = diabetes_data[age_40_60_bool_mask, 2]\n",
    "    age_60_80_glucose = diabetes_data[age_60_80_bool_mask, 2]\n",
    "    \n",
    "    # Plot the histogram for each age group in 3 x 1 subplot\n",
    "    fig = plt.figure(figsize=(15,7))\n",
    "    \n",
    "    plt.subplot(3,1,1)\n",
    "    \n",
    "    plt.hist(age_20_40_glucose, bins = 50)\n",
    "    plt.title('Age 20 to 40', fontsize = 15)\n",
    "    \n",
    "    plt.subplot(3,1,2)\n",
    "    \n",
    "    plt.hist(age_40_60_glucose, bins = 50)\n",
    "    plt.title('Age 40 to 60', fontsize = 15)\n",
    "    \n",
    "    plt.subplot(3,1,3)\n",
    "    \n",
    "    plt.hist(age_60_80_glucose, bins = 50)\n",
    "    plt.title('Age 60 to 80', fontsize = 15)\n",
    "    \n",
    "    plt.tight_layout()\n",
    "    \n",
    "    plt.show()"
   ]
  },
  {
   "cell_type": "code",
   "execution_count": null,
   "id": "6356d6db",
   "metadata": {},
   "outputs": [],
   "source": [
    "# Load diabetes.csv as pandas dataframe\n",
    "\n",
    "diabetes = pd.read_csv('diabetes.csv')"
   ]
  },
  {
   "cell_type": "code",
   "execution_count": null,
   "id": "bf9e640a",
   "metadata": {},
   "outputs": [],
   "source": [
    "# Run faulty function 3\n",
    "\n",
    "subset_diabetes_by_age(diabetes_data = diabetes)"
   ]
  },
  {
   "cell_type": "code",
   "execution_count": null,
   "id": "31505293",
   "metadata": {},
   "outputs": [],
   "source": [
    "# YOUR FIXED FUNCTION HERE\n",
    "# Make sure you comment on your fixes\n",
    "\n",
    "def subset_diabetes_by_age_fixed(diabetes_data):\n",
    "    \n",
    "    # YOUR CODE HERE\n",
    "    "
   ]
  },
  {
   "cell_type": "code",
   "execution_count": null,
   "id": "8b0e259f",
   "metadata": {},
   "outputs": [],
   "source": [
    "# Test your fixed function\n",
    "# Compare your plot with the correct plot provided in template folder\n",
    "\n",
    "subset_diabetes_by_age_fixed(diabetes_data = diabetes)"
   ]
  }
 ],
 "metadata": {
  "kernelspec": {
   "display_name": "Python 3",
   "language": "python",
   "name": "python3"
  },
  "language_info": {
   "codemirror_mode": {
    "name": "ipython",
    "version": 3
   },
   "file_extension": ".py",
   "mimetype": "text/x-python",
   "name": "python",
   "nbconvert_exporter": "python",
   "pygments_lexer": "ipython3",
   "version": "3.8.11"
  }
 },
 "nbformat": 4,
 "nbformat_minor": 5
}
