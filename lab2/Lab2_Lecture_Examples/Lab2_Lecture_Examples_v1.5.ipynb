{
 "cells": [
  {
   "cell_type": "markdown",
   "id": "02f57771",
   "metadata": {},
   "source": [
    "##### Author: Jimin Kim (jk55@uw.edu)\n",
    "##### Version 1.5.0"
   ]
  },
  {
   "cell_type": "markdown",
   "id": "2c65cd19",
   "metadata": {},
   "source": [
    "# LAB2: \n",
    "# FINISHING UP PYTHON BASICS, NUMPY & WORKING WITH AUDIO DATA"
   ]
  },
  {
   "cell_type": "markdown",
   "id": "343eba4a",
   "metadata": {},
   "source": [
    "## Part 1: Loops, Conditional statements, Functions"
   ]
  },
  {
   "cell_type": "markdown",
   "id": "f0f0b009",
   "metadata": {},
   "source": [
    "### 1.1 Conditional Statements"
   ]
  },
  {
   "cell_type": "code",
   "execution_count": 2,
   "id": "5b171248",
   "metadata": {},
   "outputs": [
    {
     "name": "stdout",
     "output_type": "stream",
     "text": [
      "num2 is larger than num1\n"
     ]
    }
   ],
   "source": [
    "# if statement\n",
    "\n",
    "# Define variables\n",
    "num1 = 10 \n",
    "num2 = 20\n",
    "\n",
    "# IF Conditional statement\n",
    "if num1 < num2: # equivalently, if (num1 < num2) == True\n",
    "    \n",
    "    print('num2 is larger than num1')"
   ]
  },
  {
   "cell_type": "code",
   "execution_count": 3,
   "id": "f65fd56e",
   "metadata": {},
   "outputs": [
    {
     "name": "stdout",
     "output_type": "stream",
     "text": [
      "num2 is less or equal to num1\n"
     ]
    }
   ],
   "source": [
    "# if-else statement\n",
    "\n",
    "# Define variables\n",
    "num1 = 20\n",
    "num2 = 10\n",
    "\n",
    "# IF-ELSE Conditional statement\n",
    "if num1 < num2:\n",
    "    \n",
    "    print('num2 is larger than num1')\n",
    "    \n",
    "else:\n",
    "    \n",
    "    print('num2 is less or equal to num1')"
   ]
  },
  {
   "cell_type": "code",
   "execution_count": 4,
   "id": "e09efa5a",
   "metadata": {},
   "outputs": [
    {
     "name": "stdout",
     "output_type": "stream",
     "text": [
      "num1 is neither float nor boolean\n"
     ]
    }
   ],
   "source": [
    "# if-elif-else statement\n",
    "\n",
    "# Define variables\n",
    "num1 = 20\n",
    "\n",
    "# IF-ELIF-ELSE Conditional statement\n",
    "if type(num1) == float:\n",
    "    \n",
    "    print('num1 is float')\n",
    "    \n",
    "elif type(num1) == bool:\n",
    "    \n",
    "    print('num1 is boolean')\n",
    "    \n",
    "else:\n",
    "    \n",
    "    print('num1 is neither float nor boolean')"
   ]
  },
  {
   "cell_type": "markdown",
   "id": "a8f21fb6",
   "metadata": {},
   "source": [
    "### 1.2 Loops"
   ]
  },
  {
   "cell_type": "code",
   "execution_count": 5,
   "id": "897f471a",
   "metadata": {},
   "outputs": [
    {
     "name": "stdout",
     "output_type": "stream",
     "text": [
      "1  is odd\n",
      "2  is even\n",
      "3  is odd\n",
      "4  is even\n",
      "5  is odd\n",
      "6  is even\n",
      "7  is odd\n",
      "8  is even\n",
      "9  is odd\n",
      "10  is even\n"
     ]
    }
   ],
   "source": [
    "# For loop - Iterate through sequence\n",
    "\n",
    "for i in range(1, 11):  # A sequence from 1 to 10\n",
    "    \n",
    "    if i % 2 == 0:\n",
    "        print(i, \" is even\")\n",
    "    else:\n",
    "        print(i, \" is odd\")"
   ]
  },
  {
   "cell_type": "code",
   "execution_count": 6,
   "id": "972c4854",
   "metadata": {},
   "outputs": [
    {
     "name": "stdout",
     "output_type": "stream",
     "text": [
      "[2.5, 5.0]\n",
      "[16.42, 32.84]\n",
      "[10.77, 21.54]\n",
      "[8.3, 16.6]\n",
      "[34.21, 68.42]\n"
     ]
    }
   ],
   "source": [
    "# For loop - Iterate through list elements\n",
    "\n",
    "float_list = [2.5, 16.42, 10.77, 8.3, 34.21]\n",
    "\n",
    "for num in float_list:  # Iterator goes through each item in the list\n",
    "    print([num, num * 2])"
   ]
  },
  {
   "cell_type": "code",
   "execution_count": 7,
   "id": "773fecd6",
   "metadata": {},
   "outputs": [
    {
     "name": "stdout",
     "output_type": "stream",
     "text": [
      "1\n",
      "4\n",
      "9\n",
      "16\n"
     ]
    }
   ],
   "source": [
    "# While loop\n",
    "\n",
    "# Define a list of numbers\n",
    "number_list = [1,2,3,4,5,6,7,8,9,10]\n",
    "\n",
    "# Initialize the iterator with 0\n",
    "k = 0\n",
    "\n",
    "while number_list[k] < 5:\n",
    "    \n",
    "    powered = number_list[k] ** 2 # Squaring the k-th element in the list\n",
    "    \n",
    "    print(powered) # Print squared value\n",
    "    \n",
    "    k += 1 # add 1 to k using assignment operator"
   ]
  },
  {
   "cell_type": "markdown",
   "id": "f6cb89e9",
   "metadata": {},
   "source": [
    "### 1.3 Functions"
   ]
  },
  {
   "cell_type": "code",
   "execution_count": 8,
   "id": "9e9498ae",
   "metadata": {},
   "outputs": [
    {
     "name": "stdout",
     "output_type": "stream",
     "text": [
      "5\n"
     ]
    }
   ],
   "source": [
    "# Operation without a function\n",
    "\n",
    "# Define variables\n",
    "num1 = 5\n",
    "num2 = 17\n",
    "\n",
    "# IF-ELIF-ELSE conditions\n",
    "if num1 < num2:\n",
    "    minimum = num1\n",
    "    \n",
    "elif num1 == num2:\n",
    "    minimum = 'two numbers are equal'\n",
    "    \n",
    "else:\n",
    "    minimum = num2\n",
    "    \n",
    "print(minimum)"
   ]
  },
  {
   "cell_type": "code",
   "execution_count": 9,
   "id": "fd599d17",
   "metadata": {},
   "outputs": [],
   "source": [
    "# Operation with a function\n",
    "\n",
    "def find_smaller_number(num1, num2):\n",
    "    \n",
    "    # IF-ELIF-ELSE conditions\n",
    "    if num1 < num2:\n",
    "        minimum = num1\n",
    "        \n",
    "    elif num1 == num2:\n",
    "        minimum = 'two numbers are equal'\n",
    "        \n",
    "    else:\n",
    "        minimum = num2\n",
    "        \n",
    "    return minimum    "
   ]
  },
  {
   "cell_type": "code",
   "execution_count": 10,
   "id": "6b9266c6",
   "metadata": {},
   "outputs": [
    {
     "name": "stdout",
     "output_type": "stream",
     "text": [
      "5\n"
     ]
    }
   ],
   "source": [
    "minimum = find_smaller_number(num1 = 5, num2 = 17)\n",
    "print(minimum)"
   ]
  },
  {
   "cell_type": "markdown",
   "id": "ccbe8bed",
   "metadata": {},
   "source": [
    "## Part 2: Introduction to Numpy"
   ]
  },
  {
   "cell_type": "markdown",
   "id": "036e5027",
   "metadata": {},
   "source": [
    "### 2.1 Consturcting numpy arrays"
   ]
  },
  {
   "cell_type": "code",
   "execution_count": 11,
   "id": "dd1bd113",
   "metadata": {},
   "outputs": [
    {
     "name": "stdout",
     "output_type": "stream",
     "text": [
      "Array dimensions:  (5,)\n",
      "Array dimensions:  (3, 5)\n",
      "Array type:  <class 'numpy.ndarray'>\n"
     ]
    }
   ],
   "source": [
    "# From Python lists\n",
    "\n",
    "import numpy as np\n",
    "\n",
    "# 1D array\n",
    "arr = np.array([1,2,3,4,5]) \n",
    "\n",
    "# 2D array\n",
    "arr_2d = np.array([[1,2,3,4,5],\n",
    "                  [6,7,8,9,10],\n",
    "                  [11,12,13,14,15]])\n",
    "\n",
    "\n",
    "print(\"Array dimensions: \", arr.shape) \n",
    "print(\"Array dimensions: \", arr_2d.shape)\n",
    "print(\"Array type: \", type(arr))      "
   ]
  },
  {
   "cell_type": "code",
   "execution_count": 12,
   "id": "758c765a",
   "metadata": {},
   "outputs": [
    {
     "name": "stdout",
     "output_type": "stream",
     "text": [
      "1D zeros array:  [0. 0. 0.]\n",
      "1D ones array:  [1. 1. 1.]\n",
      "Number sequence from 0 to 9 using arange:  [0 1 2 3 4 5 6 7 8 9]\n",
      "Number sequence from 0 to 9 using linspace:  [0. 1. 2. 3. 4. 5. 6. 7. 8. 9.]\n"
     ]
    }
   ],
   "source": [
    "# From Numpy commands\n",
    "\n",
    "# Define number of each dimension \n",
    "n1 = 3\n",
    "n2 = 4\n",
    "\n",
    "# Zeros array\n",
    "zeros_1d = np.zeros(n1)\n",
    "zeros_2d = np.zeros((n1,n2)) \n",
    "\n",
    "# Ones array\n",
    "ones_1d = np.ones(n1)\n",
    "ones_2d = np.ones((n1,n2))\n",
    "\n",
    "# Creating array using np.arange\n",
    "arr_arange = np.arange(0, 10, 1)     # (start, stop, stepsize)\n",
    "\n",
    "# Creating an array using np.linspace\n",
    "arr_linspace = np.linspace(0, 9, 10) # (start, stop, # of bins)\n",
    "\n",
    "print(\"1D zeros array: \", zeros_1d)\n",
    "print(\"1D ones array: \", ones_1d)\n",
    "print(\"Number sequence from 0 to 9 using arange: \", arr_arange)\n",
    "print(\"Number sequence from 0 to 9 using linspace: \", arr_linspace)"
   ]
  },
  {
   "cell_type": "markdown",
   "id": "7d4a192e",
   "metadata": {},
   "source": [
    "### 2.2 Numpy arithmatic operators"
   ]
  },
  {
   "cell_type": "code",
   "execution_count": 13,
   "id": "da6c8434",
   "metadata": {},
   "outputs": [
    {
     "name": "stdout",
     "output_type": "stream",
     "text": [
      "arr_1 + arr_2: [10 12 14 16 18 20 22 24 26 28]\n",
      "arr_1 - arr_2: [-10 -10 -10 -10 -10 -10 -10 -10 -10 -10]\n",
      "arr_1 * arr_2: [  0  11  24  39  56  75  96 119 144 171]\n",
      "exp(arr_1): [ 1.          2.71828183  7.3890561  20.08553692 54.59815003]\n",
      "arr_1 / arr_2: [0.         0.09090909 0.16666667 0.23076923 0.28571429]\n",
      "10 % 3: 1\n"
     ]
    }
   ],
   "source": [
    "arr_1 = np.arange(0, 10, 1)  # 0 to 9\n",
    "arr_2 = np.arange(10, 20, 1) # 10 to 19\n",
    "\n",
    "print(\"arr_1 + arr_2:\", np.add(arr_1, arr_2))                  # Addition  (you can also use arr_1 + arr_2)\n",
    "\n",
    "print(\"arr_1 - arr_2:\", np.subtract(arr_1, arr_2))             # Subtraction (you can also use arr_1 - arr_2)\n",
    "\n",
    "print(\"arr_1 * arr_2:\", np.multiply(arr_1, arr_2))             # Multiplication (you can also use arr_1 * arr_2)\n",
    "\n",
    "print(\"exp(arr_1):\", np.exp(arr_1)[:5]) # Print first 5        # Exponential\n",
    "\n",
    "print(\"arr_1 / arr_2:\", np.divide(arr_1, arr_2)[:5])           # Division (you can also use arr_1 / arr_2)\n",
    "\n",
    "print(\"10 % 3:\", np.mod(10, 3))                                # Modulo"
   ]
  },
  {
   "cell_type": "markdown",
   "id": "ef9f78e9",
   "metadata": {},
   "source": [
    "### 2.3 Useful Numpy operations: Combining arrays"
   ]
  },
  {
   "cell_type": "code",
   "execution_count": 14,
   "id": "84ab2ce5",
   "metadata": {},
   "outputs": [
    {
     "name": "stdout",
     "output_type": "stream",
     "text": [
      "[ 0  1  2  3  4  5  6  7  8  9 10 11 12 13 14 15 16 17 18 19]\n",
      "[[ 0  1  2  3  4  5  6  7  8  9]\n",
      " [10 11 12 13 14 15 16 17 18 19]]\n",
      "[ 0  1  2  3  4  5  6  7  8  9 10 11 12 13 14 15 16 17 18 19]\n",
      "[[ 0  1  2  3  4  5  6  7  8  9]\n",
      " [10 11 12 13 14 15 16 17 18 19]]\n"
     ]
    }
   ],
   "source": [
    "print(np.concatenate([arr_1, arr_2]))                          # Concatenate two arrays\n",
    "\n",
    "print(np.stack([arr_1, arr_2]))                                # Stack two arrays along new dimension\n",
    "\n",
    "print(np.hstack([arr_1, arr_2]))                               # Horizontally stack two arrays\n",
    "\n",
    "print(np.vstack([arr_1, arr_2]))                               # Vertically stack two arrays"
   ]
  },
  {
   "cell_type": "code",
   "execution_count": 15,
   "id": "047fa484",
   "metadata": {},
   "outputs": [
    {
     "name": "stdout",
     "output_type": "stream",
     "text": [
      "[[0. 0. 0.]\n",
      " [0. 0. 0.]\n",
      " [0. 0. 0.]\n",
      " [1. 1. 1.]\n",
      " [1. 1. 1.]\n",
      " [1. 1. 1.]]\n",
      "[[[0. 0. 0.]\n",
      "  [0. 0. 0.]\n",
      "  [0. 0. 0.]]\n",
      "\n",
      " [[1. 1. 1.]\n",
      "  [1. 1. 1.]\n",
      "  [1. 1. 1.]]]\n",
      "[[0. 0. 0. 1. 1. 1.]\n",
      " [0. 0. 0. 1. 1. 1.]\n",
      " [0. 0. 0. 1. 1. 1.]]\n",
      "[[0. 0. 0.]\n",
      " [0. 0. 0.]\n",
      " [0. 0. 0.]\n",
      " [1. 1. 1.]\n",
      " [1. 1. 1.]\n",
      " [1. 1. 1.]]\n"
     ]
    }
   ],
   "source": [
    "arr2d_1 = np.zeros((3,3))\n",
    "arr2d_2 = np.ones((3,3))\n",
    "\n",
    "print(np.concatenate([arr2d_1, arr2d_2]))                          # Concatenate two arrays (2D)\n",
    "\n",
    "print(np.stack([arr2d_1, arr2d_2]))                                # Stack two arrays along new dimension (2D)\n",
    "\n",
    "print(np.hstack([arr2d_1, arr2d_2]))                               # Horizontally stack two arrays (2D)\n",
    "\n",
    "print(np.vstack([arr2d_1, arr2d_2]))                               # Vertically stack two arrays (2D)"
   ]
  },
  {
   "cell_type": "markdown",
   "id": "a3f4250e",
   "metadata": {},
   "source": [
    "### 2.4 Useful Numpy operations: Characteristic values of arrays"
   ]
  },
  {
   "cell_type": "code",
   "execution_count": 16,
   "id": "aa334026",
   "metadata": {},
   "outputs": [
    {
     "name": "stdout",
     "output_type": "stream",
     "text": [
      "0\n",
      "9\n",
      "4.5\n",
      "45\n"
     ]
    }
   ],
   "source": [
    "print(np.min(arr_1))                                               # Minimum value \n",
    "\n",
    "print(np.max(arr_1))                                               # Maximum value \n",
    "\n",
    "print(np.mean(arr_1))                                              # Mean value\n",
    "\n",
    "print(np.sum(arr_1))                                               # Summed value"
   ]
  },
  {
   "cell_type": "markdown",
   "id": "8a0d2cbf",
   "metadata": {},
   "source": [
    "### 2.5 Useful Numpy operations: Indexing arrays"
   ]
  },
  {
   "cell_type": "code",
   "execution_count": 17,
   "id": "6ddb8645",
   "metadata": {},
   "outputs": [
    {
     "name": "stdout",
     "output_type": "stream",
     "text": [
      "1\n",
      "5\n",
      "[1 6 0 2 3 4 5]\n",
      "(array([0, 1, 2, 6]),)\n"
     ]
    }
   ],
   "source": [
    "arr_3 = np.array([4,2,6,7,8,9,3])\n",
    "\n",
    "print(np.argmin(arr_3))                                            # Minimum value index\n",
    "\n",
    "print(np.argmax(arr_3))                                            # Maximum value index\n",
    "\n",
    "print(np.argsort(arr_3))                                           # Sort indicies according to low value to high value\n",
    "\n",
    "print(np.where(arr_3 < 7))                                         # Find indices satisfying a condition"
   ]
  },
  {
   "cell_type": "markdown",
   "id": "3869cf75",
   "metadata": {},
   "source": [
    "### 2.6 Math operators with Numpy"
   ]
  },
  {
   "cell_type": "code",
   "execution_count": 18,
   "id": "d0d284f8",
   "metadata": {},
   "outputs": [
    {
     "name": "stdout",
     "output_type": "stream",
     "text": [
      "[0.84147098 0.90929743 0.14112001]\n",
      "[ 0.54030231 -0.41614684 -0.9899925 ]\n",
      "[ 1.55740772 -2.18503986 -0.14254654]\n",
      "3.141592653589793\n",
      "[1.         1.41421356 1.73205081]\n",
      "[ 2.71828183  7.3890561  20.08553692]\n"
     ]
    }
   ],
   "source": [
    "x_arr = np.array([1,2,3])\n",
    "\n",
    "print(np.sin(x_arr))                                               # Sine \n",
    "\n",
    "print(np.cos(x_arr))                                               # Cosine\n",
    "\n",
    "print(np.tan(x_arr))                                               # Tangent\n",
    "\n",
    "print(np.pi)                                                       # Pi\n",
    "\n",
    "print(np.sqrt(x_arr))                                              # Square root\n",
    "\n",
    "print(np.exp(x_arr))                                               # Exponential"
   ]
  },
  {
   "cell_type": "markdown",
   "id": "31a1b315",
   "metadata": {},
   "source": [
    "### 2.7 Indexing 2D arrays"
   ]
  },
  {
   "cell_type": "code",
   "execution_count": 19,
   "id": "2c0a5063",
   "metadata": {},
   "outputs": [
    {
     "name": "stdout",
     "output_type": "stream",
     "text": [
      "[[0 1 2]\n",
      " [3 4 5]\n",
      " [6 7 8]]\n"
     ]
    }
   ],
   "source": [
    "arr_seq_1 = np.arange(3)\n",
    "arr_seq_2 = np.arange(3, 6)\n",
    "arr_seq_3 = np.arange(6, 9)\n",
    "\n",
    "arr_2d_seq = np.vstack([arr_seq_1, arr_seq_2, arr_seq_3])\n",
    "print(arr_2d_seq)                                              # Sample 2D matrix"
   ]
  },
  {
   "cell_type": "code",
   "execution_count": 20,
   "id": "cbc050f2",
   "metadata": {},
   "outputs": [
    {
     "name": "stdout",
     "output_type": "stream",
     "text": [
      "0\n",
      "4\n",
      "2\n"
     ]
    }
   ],
   "source": [
    "print(arr_2d_seq[0, 0])                                        # Retrieve item in first row, first column\n",
    "print(arr_2d_seq[1, 1])                                        # Retrieve item in second row, second column\n",
    "print(arr_2d_seq[0, 2])                                        # Retrieve item in first row, third column"
   ]
  },
  {
   "cell_type": "code",
   "execution_count": 21,
   "id": "6b6c19bc",
   "metadata": {},
   "outputs": [
    {
     "name": "stdout",
     "output_type": "stream",
     "text": [
      "[0 1 2]\n",
      "[3 4 5]\n",
      "[6 7 8]\n"
     ]
    }
   ],
   "source": [
    "print(arr_2d_seq[0, :])                                        # Retrieve First row\n",
    "print(arr_2d_seq[1, :])                                        # Retrieve second row\n",
    "print(arr_2d_seq[-1, :])                                       # Retrieve last row"
   ]
  },
  {
   "cell_type": "code",
   "execution_count": 22,
   "id": "688f4b32",
   "metadata": {},
   "outputs": [
    {
     "name": "stdout",
     "output_type": "stream",
     "text": [
      "[[0 1 2]\n",
      " [3 4 5]]\n"
     ]
    }
   ],
   "source": [
    "print(arr_2d_seq[:2, :])                                       # Retrieve First two rows"
   ]
  },
  {
   "cell_type": "code",
   "execution_count": 23,
   "id": "7989b221",
   "metadata": {},
   "outputs": [
    {
     "name": "stdout",
     "output_type": "stream",
     "text": [
      "[0 3 6]\n",
      "[1 4 7]\n",
      "[2 5 8]\n"
     ]
    }
   ],
   "source": [
    "print(arr_2d_seq[:, 0])                                        # Retrieve First column\n",
    "print(arr_2d_seq[:, 1])                                        # Retrieve second column\n",
    "print(arr_2d_seq[:, -1])                                       # Retrieve last column"
   ]
  },
  {
   "cell_type": "code",
   "execution_count": 24,
   "id": "320f6e4d",
   "metadata": {},
   "outputs": [
    {
     "name": "stdout",
     "output_type": "stream",
     "text": [
      "[[0 1]\n",
      " [3 4]\n",
      " [6 7]]\n"
     ]
    }
   ],
   "source": [
    "print(arr_2d_seq[:, :2])                                       # Retrieve First two columns"
   ]
  },
  {
   "cell_type": "markdown",
   "id": "c25fd64b",
   "metadata": {},
   "source": [
    "## Part 3: Plotting with matplotlib"
   ]
  },
  {
   "cell_type": "code",
   "execution_count": 25,
   "id": "6ff536e7",
   "metadata": {},
   "outputs": [],
   "source": [
    "#%matplotlib inline   # If using local notebook runtime, allows you to display the plot inside the jupyter notebook\n",
    "#%matplotlib notebook # Alternatively, you can use this line instead for interactive plots\n",
    "\n",
    "import matplotlib.pyplot as plt"
   ]
  },
  {
   "cell_type": "markdown",
   "id": "ab276db9",
   "metadata": {},
   "source": [
    "### 3.1 Basic plotting"
   ]
  },
  {
   "cell_type": "code",
   "execution_count": 26,
   "id": "86c5326d",
   "metadata": {},
   "outputs": [
    {
     "data": {
      "image/png": "[encoded data removed]",
      "text/plain": [
       "<Figure size 640x480 with 1 Axes>"
      ]
     },
     "metadata": {},
     "output_type": "display_data"
    }
   ],
   "source": [
    "x = np.arange(0, 10, 1/32) # x axis data\n",
    "y = np.sin(x)              # y axis data\n",
    "plt.plot(x, y)             # plot the data\n",
    "plt.show()"
   ]
  },
  {
   "cell_type": "markdown",
   "id": "62132bb3",
   "metadata": {},
   "source": [
    "### 3.2 Labeling your plots"
   ]
  },
  {
   "cell_type": "code",
   "execution_count": 27,
   "id": "30381691",
   "metadata": {},
   "outputs": [
    {
     "data": {
      "image/png": "[encoded data removed]",
      "text/plain": [
       "<Figure size 640x480 with 1 Axes>"
      ]
     },
     "metadata": {},
     "output_type": "display_data"
    }
   ],
   "source": [
    "plt.plot(x, y) \n",
    "plt.title('y=sin(x)')      # set the title\n",
    "plt.xlabel('x')            # set the x axis label\n",
    "plt.ylabel('y')            # set the y axis label\n",
    "plt.xlim(-1, 11)           # set the x axis range\n",
    "plt.ylim(-2, 2)            # set the y axis range\n",
    "plt.grid()                 # enable the grid\n",
    "plt.show()"
   ]
  },
  {
   "cell_type": "markdown",
   "id": "0fad9fec",
   "metadata": {},
   "source": [
    "### 3.3 Multiple plots"
   ]
  },
  {
   "cell_type": "code",
   "execution_count": 28,
   "id": "dd78a6e4",
   "metadata": {},
   "outputs": [
    {
     "data": {
      "image/png": "[encoded data removed]",
      "text/plain": [
       "<Figure size 640x480 with 1 Axes>"
      ]
     },
     "metadata": {},
     "output_type": "display_data"
    }
   ],
   "source": [
    "# Multiple Plots\n",
    "# On same figure \n",
    "x = np.arange(0, 10, 1/32) # x axis data\n",
    "y1 = np.sin(x)             # y axis data 1\n",
    "y2 = np.cos(x)             # y axis data 2\n",
    "y3 = np.tan(x)             # y axis data 3\n",
    "plt.figure(1)              # create figure 1\n",
    "plt.plot(x, y1, label='sin(x)')\n",
    "plt.plot(x, y2, label='cos(x)')\n",
    "plt.plot(x, y3, label='tan(x)')\n",
    "plt.xlabel('x')\n",
    "plt.ylabel('y')\n",
    "plt.xlim(-1, 11)\n",
    "plt.ylim(-2, 2)\n",
    "plt.suptitle('Trigonometric Functions')\n",
    "plt.legend()\n",
    "plt.show()\n"
   ]
  },
  {
   "cell_type": "markdown",
   "id": "0696fb25",
   "metadata": {},
   "source": [
    "### 3.4 Subplots"
   ]
  },
  {
   "cell_type": "code",
   "execution_count": 29,
   "id": "50afc552",
   "metadata": {},
   "outputs": [
    {
     "data": {
      "image/png": "[encoded data removed]",
      "text/plain": [
       "<Figure size 800x800 with 3 Axes>"
      ]
     },
     "metadata": {},
     "output_type": "display_data"
    }
   ],
   "source": [
    "# Multiple Subplots\n",
    "x = np.arange(0, 10, 1/32) # x axis data\n",
    "y1 = np.sin(x)             # y axis data for subplot 1\n",
    "y2 = np.cos(x)             # y axis data for subplot 2\n",
    "y3 = np.tan(x)             # y axis data for subplot 3\n",
    "\n",
    "fig = plt.figure(2,figsize=(8,8)) # create figure 2\n",
    "\n",
    "plt.subplot(311)           # (number of rows, number of columns, current plot)\n",
    "plt.plot(x, y1)\n",
    "plt.title('sin(x)')\n",
    "plt.xlabel('x')\n",
    "plt.ylabel('y')\n",
    "\n",
    "plt.subplot(312)\n",
    "plt.plot(x, y2)\n",
    "plt.title('cos(x)')\n",
    "plt.xlabel('x')\n",
    "plt.ylabel('y')\n",
    "\n",
    "plt.subplot(313)\n",
    "plt.plot(x, y3)\n",
    "plt.title('tan(x)')\n",
    "plt.xlabel('x')\n",
    "plt.ylabel('y')\n",
    "plt.ylim(-1, 1)\n",
    "\n",
    "fig.tight_layout()\n",
    "plt.show()"
   ]
  },
  {
   "cell_type": "markdown",
   "id": "fbaf6473",
   "metadata": {},
   "source": [
    "## Part 4: Audio Input/Output"
   ]
  },
  {
   "cell_type": "markdown",
   "id": "00c45387",
   "metadata": {},
   "source": [
    "### 4.1 Reading and playing audio files: simpleaudio"
   ]
  },
  {
   "cell_type": "code",
   "execution_count": 1,
   "id": "2e2c5fdd",
   "metadata": {},
   "outputs": [],
   "source": [
    "import simpleaudio as sa                                  # Import simpleaudio"
   ]
  },
  {
   "cell_type": "code",
   "execution_count": 2,
   "id": "937d8ddf",
   "metadata": {},
   "outputs": [
    {
     "name": "stdout",
     "output_type": "stream",
     "text": [
      "Sampling rate: 32000Hz\n",
      "Channels: 1\n"
     ]
    }
   ],
   "source": [
    "wav_obj = sa.WaveObject.from_wave_file('train32.wav')     # Load audio file\n",
    "fs = wav_obj.sample_rate                                  # Extract sampling frequency\n",
    "channels = wav_obj.num_channels                           # Extract number of channels\n",
    "\n",
    "print('Sampling rate: ' + str(fs) + 'Hz')\n",
    "print('Channels: ' + str(channels))"
   ]
  },
  {
   "cell_type": "code",
   "execution_count": 3,
   "id": "33e190b1",
   "metadata": {},
   "outputs": [],
   "source": [
    "play_obj = wav_obj.play()                                 # Create play object\n",
    "play_obj.wait_done()                                      # Play the audio with some delay"
   ]
  },
  {
   "cell_type": "markdown",
   "id": "c3c46f44",
   "metadata": {},
   "source": [
    "### 4.2 Reading and playing audio files: scipy.io"
   ]
  },
  {
   "cell_type": "code",
   "execution_count": 4,
   "id": "de6b9e54",
   "metadata": {},
   "outputs": [],
   "source": [
    "from scipy.io import wavfile as wav                       # Import scipy.io"
   ]
  },
  {
   "cell_type": "code",
   "execution_count": 5,
   "id": "da7d5290",
   "metadata": {},
   "outputs": [
    {
     "name": "stdout",
     "output_type": "stream",
     "text": [
      "Sampling rate: 32000Hz\n",
      "Channels: 1\n"
     ]
    }
   ],
   "source": [
    "fs1, data1 = wav.read('train32.wav')                      # Load audio file\n",
    "print('Sampling rate: ' + str(fs1) + 'Hz')                # Extract sampling frequency\n",
    "print('Channels: ' + str(len(data1.shape)))               # Extract number of channels \n",
    "                                                          # 1D has shape of (n1, ), 2D has shape of (n1, n2)"
   ]
  },
  {
   "cell_type": "code",
   "execution_count": 6,
   "id": "34959e98",
   "metadata": {},
   "outputs": [
    {
     "name": "stdout",
     "output_type": "stream",
     "text": [
      "Sampling rate: 11025Hz\n",
      "Channels: 2\n"
     ]
    }
   ],
   "source": [
    "fs2, data2 = wav.read('tuba11.wav')\n",
    "print('Sampling rate: ' + str(fs2) + 'Hz')\n",
    "print('Channels: ' + str(len(data2.shape))) "
   ]
  },
  {
   "cell_type": "code",
   "execution_count": 7,
   "id": "d788667f",
   "metadata": {},
   "outputs": [],
   "source": [
    "# Play audio using sa.play_buffer\n",
    "play_obj_1 = sa.play_buffer(data1, num_channels = 1, bytes_per_sample = 2, sample_rate = fs1)  \n",
    "play_obj_1.wait_done()"
   ]
  },
  {
   "cell_type": "code",
   "execution_count": 8,
   "id": "8fcd545a",
   "metadata": {},
   "outputs": [],
   "source": [
    "play_obj_2 = sa.play_buffer(data2, num_channels = 2, bytes_per_sample = 2, sample_rate = fs2)\n",
    "play_obj_2.wait_done()"
   ]
  },
  {
   "cell_type": "markdown",
   "id": "365c4568",
   "metadata": {},
   "source": [
    "### 4.3 Writing audio with scipy.io"
   ]
  },
  {
   "cell_type": "code",
   "execution_count": 9,
   "id": "d3ccb9ff",
   "metadata": {},
   "outputs": [
    {
     "ename": "NameError",
     "evalue": "name 'np' is not defined",
     "output_type": "error",
     "traceback": [
      "\u001b[0;31m---------------------------------------------------------------------------\u001b[0m",
      "\u001b[0;31mNameError\u001b[0m                                 Traceback (most recent call last)",
      "\u001b[0;32m/var/folders/mm/n7hfzy1x7klg8gdxfbpmcq6m0000gn/T/ipykernel_77578/2475224688.py\u001b[0m in \u001b[0;36m<module>\u001b[0;34m\u001b[0m\n\u001b[0;32m----> 1\u001b[0;31m \u001b[0mpause\u001b[0m \u001b[0;34m=\u001b[0m \u001b[0mnp\u001b[0m\u001b[0;34m.\u001b[0m\u001b[0mzeros\u001b[0m\u001b[0;34m(\u001b[0m\u001b[0mint\u001b[0m\u001b[0;34m(\u001b[0m\u001b[0;36m2\u001b[0m\u001b[0;34m*\u001b[0m\u001b[0mfs2\u001b[0m\u001b[0;34m)\u001b[0m\u001b[0;34m)\u001b[0m                                           \u001b[0;31m# create a 2-sec pause\u001b[0m\u001b[0;34m\u001b[0m\u001b[0;34m\u001b[0m\u001b[0m\n\u001b[0m\u001b[1;32m      2\u001b[0m \u001b[0;34m\u001b[0m\u001b[0m\n\u001b[1;32m      3\u001b[0m \u001b[0mdata0\u001b[0m \u001b[0;34m=\u001b[0m \u001b[0mdata2\u001b[0m\u001b[0;34m[\u001b[0m\u001b[0;34m:\u001b[0m\u001b[0;34m,\u001b[0m\u001b[0;36m0\u001b[0m\u001b[0;34m]\u001b[0m                                                     \u001b[0;31m# extract channel 0\u001b[0m\u001b[0;34m\u001b[0m\u001b[0;34m\u001b[0m\u001b[0m\n\u001b[1;32m      4\u001b[0m \u001b[0mdata1\u001b[0m \u001b[0;34m=\u001b[0m \u001b[0mdata2\u001b[0m\u001b[0;34m[\u001b[0m\u001b[0;34m:\u001b[0m\u001b[0;34m,\u001b[0m\u001b[0;36m1\u001b[0m\u001b[0;34m]\u001b[0m                                                     \u001b[0;31m# extract channel 1\u001b[0m\u001b[0;34m\u001b[0m\u001b[0;34m\u001b[0m\u001b[0m\n\u001b[1;32m      5\u001b[0m \u001b[0;34m\u001b[0m\u001b[0m\n",
      "\u001b[0;31mNameError\u001b[0m: name 'np' is not defined"
     ]
    }
   ],
   "source": [
    "pause = np.zeros(int(2*fs2))                                           # create a 2-sec pause\n",
    "\n",
    "data0 = data2[:,0]                                                     # extract channel 0\n",
    "data1 = data2[:,1]                                                     # extract channel 1 \n",
    "\n",
    "ptuba_data = np.concatenate([data0, pause, data1])                     # insert pause between tubas\n",
    "\n",
    "outfile = 'ptuba_single_channel.wav'\n",
    "\n",
    "wav.write(outfile, fs2, ptuba_data.astype('int16'))                    # write wav file"
   ]
  },
  {
   "cell_type": "code",
   "execution_count": null,
   "id": "945e6aec",
   "metadata": {},
   "outputs": [],
   "source": [
    "wav_obj = sa.WaveObject.from_wave_file('ptuba_single_channel.wav')     # Load the saved .wav file\n",
    "play_obj = wav_obj.play()\n",
    "play_obj.wait_done()"
   ]
  },
  {
   "cell_type": "code",
   "execution_count": null,
   "id": "3f87a49c",
   "metadata": {},
   "outputs": [],
   "source": []
  }
 ],
 "metadata": {
  "kernelspec": {
   "display_name": "Python 3 (ipykernel)",
   "language": "python",
   "name": "python3"
  },
  "language_info": {
   "codemirror_mode": {
    "name": "ipython",
    "version": 3
   },
   "file_extension": ".py",
   "mimetype": "text/x-python",
   "name": "python",
   "nbconvert_exporter": "python",
   "pygments_lexer": "ipython3",
   "version": "3.9.13"
  }
 },
 "nbformat": 4,
 "nbformat_minor": 5
}
