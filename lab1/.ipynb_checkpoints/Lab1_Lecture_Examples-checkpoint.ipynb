{
 "cells": [
  {
   "cell_type": "markdown",
   "id": "c2a41144",
   "metadata": {},
   "source": [
    "##### Author: Jimin Kim (jk55@uw.edu)\n",
    "##### Version 1.5.0"
   ]
  },
  {
   "cell_type": "markdown",
   "id": "ea454b2d",
   "metadata": {},
   "source": [
    "# LAB 1: INTRODUCTION"
   ]
  },
  {
   "cell_type": "markdown",
   "id": "a07729e8",
   "metadata": {},
   "source": [
    "## Part 1: Getting started with Python"
   ]
  },
  {
   "cell_type": "markdown",
   "id": "dcc4cae5",
   "metadata": {},
   "source": [
    "### 1.1 - Code vs Markdown cells"
   ]
  },
  {
   "cell_type": "code",
   "execution_count": null,
   "id": "bf9797bb",
   "metadata": {},
   "outputs": [],
   "source": [
    "# This is a code cell\n",
    "# The # indicates a comment, so this cell does nothing"
   ]
  },
  {
   "cell_type": "markdown",
   "id": "6e8c6dcd",
   "metadata": {},
   "source": [
    "### This is a markdown cell\n",
    "\n",
    "### Markdown Cheatsheet https://www.markdownguide.org/cheat-sheet/ "
   ]
  },
  {
   "cell_type": "markdown",
   "id": "2a1d40d0",
   "metadata": {},
   "source": [
    "### 1.2 - Importing package"
   ]
  },
  {
   "cell_type": "code",
   "execution_count": null,
   "id": "3d4a0947",
   "metadata": {},
   "outputs": [],
   "source": [
    "import math           # We will use this package for math operators examples\n",
    "from IPython.display import Image"
   ]
  },
  {
   "cell_type": "markdown",
   "id": "a7753b99",
   "metadata": {},
   "source": [
    "## Part 2: Python's Data Types and Variables"
   ]
  },
  {
   "cell_type": "markdown",
   "id": "6c3beaca",
   "metadata": {},
   "source": [
    "### 2.1 - Printing variables"
   ]
  },
  {
   "cell_type": "code",
   "execution_count": null,
   "id": "cd492be0",
   "metadata": {},
   "outputs": [],
   "source": [
    "var1 = 2021\n",
    "var2 = 'Fall'\n",
    "\n",
    "print(var1)            # Print single variable\n",
    "print(var1, var2)      # Print multiple variable (separated by comma)"
   ]
  },
  {
   "cell_type": "code",
   "execution_count": null,
   "id": "c55d1e98",
   "metadata": {},
   "outputs": [],
   "source": [
    "var1\n",
    "var1, var2             # Notebook will also output the last variable on the line by default"
   ]
  },
  {
   "cell_type": "markdown",
   "id": "d1fb21f0",
   "metadata": {},
   "source": [
    "### 2.2 - Numbers"
   ]
  },
  {
   "cell_type": "code",
   "execution_count": null,
   "id": "f565f4bb",
   "metadata": {},
   "outputs": [],
   "source": [
    "num1 = 1          # Integer\n",
    "num2 = 1.6        # Float\n",
    "num3 = 2 + 6j     # Complex\n",
    "\n",
    "# You can print out strings using either single or double quotes\n",
    "print(\"Values of numbers:\", num1,num2,num3)                                    # value display\n",
    "print('and corresponding types:', type(num1), type(num2), type(num3))          # type() displays the data type"
   ]
  },
  {
   "cell_type": "markdown",
   "id": "c80926ae",
   "metadata": {},
   "source": [
    "### 2.3 - Booleans"
   ]
  },
  {
   "cell_type": "code",
   "execution_count": null,
   "id": "3c927b18",
   "metadata": {},
   "outputs": [],
   "source": [
    "bool1 = True\n",
    "bool2 = False\n",
    "\n",
    "print(\"Values of Boolean variables:\",bool1,bool2)\n",
    "print(type(bool1), type(bool2))"
   ]
  },
  {
   "cell_type": "markdown",
   "id": "06781844",
   "metadata": {},
   "source": [
    "### 2.4 - Strings"
   ]
  },
  {
   "cell_type": "code",
   "execution_count": null,
   "id": "54edf039",
   "metadata": {},
   "outputs": [],
   "source": [
    "str1 = 'Go Huskies!'\n",
    "\n",
    "# len(var) displays the length of 'var' if it has length attribute\n",
    "# length of a string is the number of characters\n",
    "print('A string, its type and length:', str1, type(str1), len(str1))"
   ]
  },
  {
   "cell_type": "markdown",
   "id": "356a6898",
   "metadata": {},
   "source": [
    "### 2.5 - Grouping data with Lists"
   ]
  },
  {
   "cell_type": "code",
   "execution_count": null,
   "id": "5eb39c3b",
   "metadata": {},
   "outputs": [],
   "source": [
    "list_1 = [1, 2, 3]                                 # list of numbers\n",
    "print(list_1)\n",
    "\n",
    "list_2 = ['Hello', 'World']                        # list of strings\n",
    "print(list_2)\n",
    "\n",
    "list_3 = [1, 2, 3, 'Apple', 'orange']              # list of numbers + strings\n",
    "print(list_3)\n",
    "\n",
    "list_4 = [list_1, list_2]                          # list of lists\n",
    "print(list_4)"
   ]
  },
  {
   "cell_type": "markdown",
   "id": "c1ed184e",
   "metadata": {},
   "source": [
    "### 2.6 - Indexing lists"
   ]
  },
  {
   "cell_type": "code",
   "execution_count": null,
   "id": "78d69a0a",
   "metadata": {},
   "outputs": [],
   "source": [
    "print(list_3[0])                                    # Indexing 1st element of the list (in Python, index 0 -> 1st element)\n",
    "\n",
    "print(list_3[2])                                    # Indexing 3rd element\n",
    "\n",
    "print(list_3[:3])                                   # Indexing first three elements\n",
    "\n",
    "print(list_3[-1])                                   # Indexing last element\n",
    "\n",
    "print(list_3[-3:])                                  # Indexing last three elements\n",
    "\n",
    "print(list_3[2:])                                   # Indexing from the third element to the last element"
   ]
  },
  {
   "cell_type": "code",
   "execution_count": null,
   "id": "24b63532",
   "metadata": {},
   "outputs": [],
   "source": [
    "num_list = [1,2,3,4,5,6,7,8,9,10]\n",
    "\n",
    "print(num_list[0::2])                               # Starting from 1st element, skip every 1 element\n",
    "\n",
    "print(num_list[0::3])                               # Starting from 1st element, skip every 2 elements\n",
    "\n",
    "print(num_list[1::3])                               # Starting from 2nd element, skip every 2 elements\n",
    "\n",
    "print(num_list[1:6:2])                              # Starting from 2nd element, skip every 1 element until the 6th"
   ]
  },
  {
   "cell_type": "markdown",
   "id": "ec48e05c",
   "metadata": {},
   "source": [
    "### 2.7 - Append, insert, delete elements to lists "
   ]
  },
  {
   "cell_type": "code",
   "execution_count": null,
   "id": "78e26429",
   "metadata": {},
   "outputs": [],
   "source": [
    "list_3_clone_1 = list_3.copy()                      # .copy() creates a duplicate variable\n",
    "list_3_clone_1.append(4)                            # .append() adds an item at the end of the list\n",
    "print(list_3_clone_1)\n",
    "\n",
    "list_3_clone_2 = list_3.copy()\n",
    "list_3_clone_2.insert(2, 'pineapple')               # Inserting a string 'pineapple' into 2nd index\n",
    "print(list_3_clone_2)\n",
    "\n",
    "list_3_clone_3 = list_3.copy() \n",
    "del list_3_clone_3[2]                               # Deleting 3rd element (2nd index) from the list\n",
    "print(list_3_clone_3)"
   ]
  },
  {
   "cell_type": "markdown",
   "id": "1b3f49ae",
   "metadata": {},
   "source": [
    "### 2.8 - Empty list and element check"
   ]
  },
  {
   "cell_type": "code",
   "execution_count": null,
   "id": "0296a2cf",
   "metadata": {},
   "outputs": [],
   "source": [
    "empty_list = []                                     # Construct an empty list\n",
    "empty_list.append(5)                                # Append 5 to the list\n",
    "print(empty_list)\n",
    "print(5 in empty_list)                              # Use 'in' command to check if an item is in ithe list"
   ]
  },
  {
   "cell_type": "markdown",
   "id": "6fc33878",
   "metadata": {},
   "source": [
    "## Part 3: Logical Expressions and Operators"
   ]
  },
  {
   "cell_type": "markdown",
   "id": "fccaf182",
   "metadata": {},
   "source": [
    "### 3.1 - Arithmatic operators"
   ]
  },
  {
   "cell_type": "code",
   "execution_count": null,
   "id": "27c3a151",
   "metadata": {},
   "outputs": [],
   "source": [
    "float1, float2 = 5.4, 8.9                            # You can assign multiple variables in a single line with 'comma'\n",
    "print(float1 + float2)                               # Addition\n",
    "\n",
    "print(float1 - float2)                               # Subtraction\n",
    "\n",
    "print(float1 * float2)                               # Multiplication\n",
    "\n",
    "print(float1**2)                                     # Exponential\n",
    "\n",
    "print(float1 / float2)                               # Division\n",
    "\n",
    "float3, float4 = 10., 3.                             \n",
    "print(float3 % float4)                               # Modulo"
   ]
  },
  {
   "cell_type": "markdown",
   "id": "4ebd759b",
   "metadata": {},
   "source": [
    "### 3.2 - Comparison operators"
   ]
  },
  {
   "cell_type": "code",
   "execution_count": null,
   "id": "f662b137",
   "metadata": {},
   "outputs": [],
   "source": [
    "print(5 < 3)                                         # Greater Than\n",
    "\n",
    "print(5 > 3)                                         # Less Than\n",
    "\n",
    "print(5 >= 3)                                        # Greater Than or Equal to\n",
    "\n",
    "print(5 <= 3)                                        # Less Than or Equal to\n",
    "\n",
    "print(5 == 3)                                        # Equivalent to\n",
    "\n",
    "print(5 != 3)                                        # Not Equivalent to"
   ]
  },
  {
   "cell_type": "markdown",
   "id": "390cbfc4",
   "metadata": {},
   "source": [
    "### 3.3 - Assignment operators"
   ]
  },
  {
   "cell_type": "code",
   "execution_count": null,
   "id": "dbb8fd5f",
   "metadata": {},
   "outputs": [],
   "source": [
    "var1 = 3\n",
    "var1 += 3                                            # Add and Assign\n",
    "print(var1)\n",
    "\n",
    "var2 = 4 \n",
    "var2 -= 1                                            # Subtract and Assign\n",
    "print(var2)                \n",
    "\n",
    "var3 = 5\n",
    "var3 *= 1.5                                          # Multiply and Assign\n",
    "print(var3)\n",
    "\n",
    "var4 = 6\n",
    "var4 /= 2                                            # Divide and Assign\n",
    "print(var4)"
   ]
  },
  {
   "cell_type": "markdown",
   "id": "98f8490e",
   "metadata": {},
   "source": [
    "### 3.4 - Logical operators"
   ]
  },
  {
   "cell_type": "code",
   "execution_count": null,
   "id": "ad8c1932",
   "metadata": {},
   "outputs": [],
   "source": [
    "bool1, bool2 = True, False\n",
    "print(bool1 or bool2)                                 # OR operator\n",
    "\n",
    "print(bool1 and bool2)                                # AND operator\n",
    "\n",
    "print(not bool1)                                      # NOT operator"
   ]
  },
  {
   "cell_type": "markdown",
   "id": "39a60d8d",
   "metadata": {},
   "source": [
    "### 3.5 - Math operators"
   ]
  },
  {
   "cell_type": "code",
   "execution_count": null,
   "id": "199cf49c",
   "metadata": {},
   "outputs": [],
   "source": [
    "# Recall we imported math in the beginning of the notebook\n",
    "# More functions: https://docs.python.org/3/library/math.html#\n",
    "\n",
    "print(math.sin(1))                                    # Sine (uses radian as input)\n",
    "\n",
    "print(math.cos(1))                                    # Cosine (uses radian as input)\n",
    "\n",
    "print(math.tan(1))                                    # Tangent (uses radian as input)\n",
    " \n",
    "print(math.pi)                                        # Pi\n",
    "\n",
    "print(math.sqrt(3))                                   # Square root\n",
    "\n",
    "print(math.exp(3))                                    # Exponential"
   ]
  }
 ],
 "metadata": {
  "kernelspec": {
   "display_name": "Python 3 (ipykernel)",
   "language": "python",
   "name": "python3"
  },
  "language_info": {
   "codemirror_mode": {
    "name": "ipython",
    "version": 3
   },
   "file_extension": ".py",
   "mimetype": "text/x-python",
   "name": "python",
   "nbconvert_exporter": "python",
   "pygments_lexer": "ipython3",
   "version": "3.9.13"
  }
 },
 "nbformat": 4,
 "nbformat_minor": 5
}
